{
 "cells": [
  {
   "cell_type": "code",
   "execution_count": 2,
   "metadata": {
    "ExecuteTime": {
     "end_time": "2022-08-20T20:02:22.844031Z",
     "start_time": "2022-08-20T20:02:22.818025Z"
    }
   },
   "outputs": [],
   "source": [
    "import pandas as pd \n",
    "import numpy as np \n",
    "import matplotlib.pyplot as plt \n",
    "from sklearn.decomposition import PCA\n",
    "from sklearn.linear_model import LinearRegression\n",
    "from sklearn.linear_model import LogisticRegression\n",
    "from sklearn.model_selection import train_test_split\n",
    "from sklearn.datasets import load_digits\n",
    "from sklearn.datasets import load_iris\n",
    "from sklearn.metrics import confusion_matrix\n",
    "from sklearn.svm import SVC\n",
    "import seaborn as sns"
   ]
  },
  {
   "cell_type": "code",
   "execution_count": 3,
   "metadata": {
    "ExecuteTime": {
     "end_time": "2022-08-20T20:02:25.171968Z",
     "start_time": "2022-08-20T20:02:25.095952Z"
    }
   },
   "outputs": [
    {
     "data": {
      "text/html": [
       "<div>\n",
       "<style scoped>\n",
       "    .dataframe tbody tr th:only-of-type {\n",
       "        vertical-align: middle;\n",
       "    }\n",
       "\n",
       "    .dataframe tbody tr th {\n",
       "        vertical-align: top;\n",
       "    }\n",
       "\n",
       "    .dataframe thead th {\n",
       "        text-align: right;\n",
       "    }\n",
       "</style>\n",
       "<table border=\"1\" class=\"dataframe\">\n",
       "  <thead>\n",
       "    <tr style=\"text-align: right;\">\n",
       "      <th></th>\n",
       "      <th>Date</th>\n",
       "      <th>Open</th>\n",
       "      <th>High</th>\n",
       "      <th>Low</th>\n",
       "      <th>Close</th>\n",
       "      <th>Adj Close</th>\n",
       "      <th>Volume</th>\n",
       "      <th>SP_open</th>\n",
       "      <th>SP_high</th>\n",
       "      <th>SP_low</th>\n",
       "      <th>...</th>\n",
       "      <th>GDX_Low</th>\n",
       "      <th>GDX_Close</th>\n",
       "      <th>GDX_Adj Close</th>\n",
       "      <th>GDX_Volume</th>\n",
       "      <th>USO_Open</th>\n",
       "      <th>USO_High</th>\n",
       "      <th>USO_Low</th>\n",
       "      <th>USO_Close</th>\n",
       "      <th>USO_Adj Close</th>\n",
       "      <th>USO_Volume</th>\n",
       "    </tr>\n",
       "  </thead>\n",
       "  <tbody>\n",
       "    <tr>\n",
       "      <th>0</th>\n",
       "      <td>2011-12-15</td>\n",
       "      <td>154.740005</td>\n",
       "      <td>154.949997</td>\n",
       "      <td>151.710007</td>\n",
       "      <td>152.330002</td>\n",
       "      <td>152.330002</td>\n",
       "      <td>21521900</td>\n",
       "      <td>123.029999</td>\n",
       "      <td>123.199997</td>\n",
       "      <td>121.989998</td>\n",
       "      <td>...</td>\n",
       "      <td>51.570000</td>\n",
       "      <td>51.680000</td>\n",
       "      <td>48.973877</td>\n",
       "      <td>20605600</td>\n",
       "      <td>36.900002</td>\n",
       "      <td>36.939999</td>\n",
       "      <td>36.049999</td>\n",
       "      <td>36.130001</td>\n",
       "      <td>36.130001</td>\n",
       "      <td>12616700</td>\n",
       "    </tr>\n",
       "    <tr>\n",
       "      <th>1</th>\n",
       "      <td>2011-12-16</td>\n",
       "      <td>154.309998</td>\n",
       "      <td>155.369995</td>\n",
       "      <td>153.899994</td>\n",
       "      <td>155.229996</td>\n",
       "      <td>155.229996</td>\n",
       "      <td>18124300</td>\n",
       "      <td>122.230003</td>\n",
       "      <td>122.949997</td>\n",
       "      <td>121.300003</td>\n",
       "      <td>...</td>\n",
       "      <td>52.040001</td>\n",
       "      <td>52.680000</td>\n",
       "      <td>49.921513</td>\n",
       "      <td>16285400</td>\n",
       "      <td>36.180000</td>\n",
       "      <td>36.500000</td>\n",
       "      <td>35.730000</td>\n",
       "      <td>36.270000</td>\n",
       "      <td>36.270000</td>\n",
       "      <td>12578800</td>\n",
       "    </tr>\n",
       "    <tr>\n",
       "      <th>2</th>\n",
       "      <td>2011-12-19</td>\n",
       "      <td>155.479996</td>\n",
       "      <td>155.860001</td>\n",
       "      <td>154.360001</td>\n",
       "      <td>154.869995</td>\n",
       "      <td>154.869995</td>\n",
       "      <td>12547200</td>\n",
       "      <td>122.059998</td>\n",
       "      <td>122.320000</td>\n",
       "      <td>120.029999</td>\n",
       "      <td>...</td>\n",
       "      <td>51.029999</td>\n",
       "      <td>51.169998</td>\n",
       "      <td>48.490578</td>\n",
       "      <td>15120200</td>\n",
       "      <td>36.389999</td>\n",
       "      <td>36.450001</td>\n",
       "      <td>35.930000</td>\n",
       "      <td>36.200001</td>\n",
       "      <td>36.200001</td>\n",
       "      <td>7418200</td>\n",
       "    </tr>\n",
       "    <tr>\n",
       "      <th>3</th>\n",
       "      <td>2011-12-20</td>\n",
       "      <td>156.820007</td>\n",
       "      <td>157.429993</td>\n",
       "      <td>156.580002</td>\n",
       "      <td>156.979996</td>\n",
       "      <td>156.979996</td>\n",
       "      <td>9136300</td>\n",
       "      <td>122.180000</td>\n",
       "      <td>124.139999</td>\n",
       "      <td>120.370003</td>\n",
       "      <td>...</td>\n",
       "      <td>52.369999</td>\n",
       "      <td>52.990002</td>\n",
       "      <td>50.215282</td>\n",
       "      <td>11644900</td>\n",
       "      <td>37.299999</td>\n",
       "      <td>37.610001</td>\n",
       "      <td>37.220001</td>\n",
       "      <td>37.560001</td>\n",
       "      <td>37.560001</td>\n",
       "      <td>10041600</td>\n",
       "    </tr>\n",
       "    <tr>\n",
       "      <th>4</th>\n",
       "      <td>2011-12-21</td>\n",
       "      <td>156.979996</td>\n",
       "      <td>157.529999</td>\n",
       "      <td>156.130005</td>\n",
       "      <td>157.160004</td>\n",
       "      <td>157.160004</td>\n",
       "      <td>11996100</td>\n",
       "      <td>123.930000</td>\n",
       "      <td>124.360001</td>\n",
       "      <td>122.750000</td>\n",
       "      <td>...</td>\n",
       "      <td>52.419998</td>\n",
       "      <td>52.959999</td>\n",
       "      <td>50.186852</td>\n",
       "      <td>8724300</td>\n",
       "      <td>37.669998</td>\n",
       "      <td>38.240002</td>\n",
       "      <td>37.520000</td>\n",
       "      <td>38.110001</td>\n",
       "      <td>38.110001</td>\n",
       "      <td>10728000</td>\n",
       "    </tr>\n",
       "  </tbody>\n",
       "</table>\n",
       "<p>5 rows × 81 columns</p>\n",
       "</div>"
      ],
      "text/plain": [
       "         Date        Open        High         Low       Close   Adj Close  \\\n",
       "0  2011-12-15  154.740005  154.949997  151.710007  152.330002  152.330002   \n",
       "1  2011-12-16  154.309998  155.369995  153.899994  155.229996  155.229996   \n",
       "2  2011-12-19  155.479996  155.860001  154.360001  154.869995  154.869995   \n",
       "3  2011-12-20  156.820007  157.429993  156.580002  156.979996  156.979996   \n",
       "4  2011-12-21  156.979996  157.529999  156.130005  157.160004  157.160004   \n",
       "\n",
       "     Volume     SP_open     SP_high      SP_low  ...    GDX_Low  GDX_Close  \\\n",
       "0  21521900  123.029999  123.199997  121.989998  ...  51.570000  51.680000   \n",
       "1  18124300  122.230003  122.949997  121.300003  ...  52.040001  52.680000   \n",
       "2  12547200  122.059998  122.320000  120.029999  ...  51.029999  51.169998   \n",
       "3   9136300  122.180000  124.139999  120.370003  ...  52.369999  52.990002   \n",
       "4  11996100  123.930000  124.360001  122.750000  ...  52.419998  52.959999   \n",
       "\n",
       "   GDX_Adj Close  GDX_Volume   USO_Open   USO_High    USO_Low  USO_Close  \\\n",
       "0      48.973877    20605600  36.900002  36.939999  36.049999  36.130001   \n",
       "1      49.921513    16285400  36.180000  36.500000  35.730000  36.270000   \n",
       "2      48.490578    15120200  36.389999  36.450001  35.930000  36.200001   \n",
       "3      50.215282    11644900  37.299999  37.610001  37.220001  37.560001   \n",
       "4      50.186852     8724300  37.669998  38.240002  37.520000  38.110001   \n",
       "\n",
       "   USO_Adj Close  USO_Volume  \n",
       "0      36.130001    12616700  \n",
       "1      36.270000    12578800  \n",
       "2      36.200001     7418200  \n",
       "3      37.560001    10041600  \n",
       "4      38.110001    10728000  \n",
       "\n",
       "[5 rows x 81 columns]"
      ]
     },
     "execution_count": 3,
     "metadata": {},
     "output_type": "execute_result"
    }
   ],
   "source": [
    "df = pd.read_csv('FINAL_USO.csv')\n",
    "df.head()"
   ]
  },
  {
   "cell_type": "code",
   "execution_count": 4,
   "metadata": {
    "ExecuteTime": {
     "end_time": "2022-08-20T20:02:27.561193Z",
     "start_time": "2022-08-20T20:02:27.522183Z"
    }
   },
   "outputs": [
    {
     "data": {
      "text/html": [
       "<div>\n",
       "<style scoped>\n",
       "    .dataframe tbody tr th:only-of-type {\n",
       "        vertical-align: middle;\n",
       "    }\n",
       "\n",
       "    .dataframe tbody tr th {\n",
       "        vertical-align: top;\n",
       "    }\n",
       "\n",
       "    .dataframe thead th {\n",
       "        text-align: right;\n",
       "    }\n",
       "</style>\n",
       "<table border=\"1\" class=\"dataframe\">\n",
       "  <thead>\n",
       "    <tr style=\"text-align: right;\">\n",
       "      <th></th>\n",
       "      <th>Date</th>\n",
       "      <th>Open</th>\n",
       "      <th>High</th>\n",
       "      <th>Low</th>\n",
       "      <th>Close</th>\n",
       "      <th>Adj Close</th>\n",
       "      <th>Volume</th>\n",
       "      <th>SP_open</th>\n",
       "      <th>SP_high</th>\n",
       "      <th>SP_low</th>\n",
       "      <th>...</th>\n",
       "      <th>GDX_Low</th>\n",
       "      <th>GDX_Close</th>\n",
       "      <th>GDX_Adj Close</th>\n",
       "      <th>GDX_Volume</th>\n",
       "      <th>USO_Open</th>\n",
       "      <th>USO_High</th>\n",
       "      <th>USO_Low</th>\n",
       "      <th>USO_Close</th>\n",
       "      <th>USO_Adj Close</th>\n",
       "      <th>USO_Volume</th>\n",
       "    </tr>\n",
       "  </thead>\n",
       "  <tbody>\n",
       "    <tr>\n",
       "      <th>0</th>\n",
       "      <td>2011-12-15</td>\n",
       "      <td>154.740005</td>\n",
       "      <td>154.949997</td>\n",
       "      <td>151.710007</td>\n",
       "      <td>152.330002</td>\n",
       "      <td>152.330002</td>\n",
       "      <td>21521900</td>\n",
       "      <td>123.029999</td>\n",
       "      <td>123.199997</td>\n",
       "      <td>121.989998</td>\n",
       "      <td>...</td>\n",
       "      <td>51.570000</td>\n",
       "      <td>51.680000</td>\n",
       "      <td>48.973877</td>\n",
       "      <td>20605600</td>\n",
       "      <td>36.900002</td>\n",
       "      <td>36.939999</td>\n",
       "      <td>36.049999</td>\n",
       "      <td>36.130001</td>\n",
       "      <td>36.130001</td>\n",
       "      <td>12616700</td>\n",
       "    </tr>\n",
       "    <tr>\n",
       "      <th>1</th>\n",
       "      <td>2011-12-16</td>\n",
       "      <td>154.309998</td>\n",
       "      <td>155.369995</td>\n",
       "      <td>153.899994</td>\n",
       "      <td>155.229996</td>\n",
       "      <td>155.229996</td>\n",
       "      <td>18124300</td>\n",
       "      <td>122.230003</td>\n",
       "      <td>122.949997</td>\n",
       "      <td>121.300003</td>\n",
       "      <td>...</td>\n",
       "      <td>52.040001</td>\n",
       "      <td>52.680000</td>\n",
       "      <td>49.921513</td>\n",
       "      <td>16285400</td>\n",
       "      <td>36.180000</td>\n",
       "      <td>36.500000</td>\n",
       "      <td>35.730000</td>\n",
       "      <td>36.270000</td>\n",
       "      <td>36.270000</td>\n",
       "      <td>12578800</td>\n",
       "    </tr>\n",
       "    <tr>\n",
       "      <th>2</th>\n",
       "      <td>2011-12-19</td>\n",
       "      <td>155.479996</td>\n",
       "      <td>155.860001</td>\n",
       "      <td>154.360001</td>\n",
       "      <td>154.869995</td>\n",
       "      <td>154.869995</td>\n",
       "      <td>12547200</td>\n",
       "      <td>122.059998</td>\n",
       "      <td>122.320000</td>\n",
       "      <td>120.029999</td>\n",
       "      <td>...</td>\n",
       "      <td>51.029999</td>\n",
       "      <td>51.169998</td>\n",
       "      <td>48.490578</td>\n",
       "      <td>15120200</td>\n",
       "      <td>36.389999</td>\n",
       "      <td>36.450001</td>\n",
       "      <td>35.930000</td>\n",
       "      <td>36.200001</td>\n",
       "      <td>36.200001</td>\n",
       "      <td>7418200</td>\n",
       "    </tr>\n",
       "    <tr>\n",
       "      <th>3</th>\n",
       "      <td>2011-12-20</td>\n",
       "      <td>156.820007</td>\n",
       "      <td>157.429993</td>\n",
       "      <td>156.580002</td>\n",
       "      <td>156.979996</td>\n",
       "      <td>156.979996</td>\n",
       "      <td>9136300</td>\n",
       "      <td>122.180000</td>\n",
       "      <td>124.139999</td>\n",
       "      <td>120.370003</td>\n",
       "      <td>...</td>\n",
       "      <td>52.369999</td>\n",
       "      <td>52.990002</td>\n",
       "      <td>50.215282</td>\n",
       "      <td>11644900</td>\n",
       "      <td>37.299999</td>\n",
       "      <td>37.610001</td>\n",
       "      <td>37.220001</td>\n",
       "      <td>37.560001</td>\n",
       "      <td>37.560001</td>\n",
       "      <td>10041600</td>\n",
       "    </tr>\n",
       "    <tr>\n",
       "      <th>4</th>\n",
       "      <td>2011-12-21</td>\n",
       "      <td>156.979996</td>\n",
       "      <td>157.529999</td>\n",
       "      <td>156.130005</td>\n",
       "      <td>157.160004</td>\n",
       "      <td>157.160004</td>\n",
       "      <td>11996100</td>\n",
       "      <td>123.930000</td>\n",
       "      <td>124.360001</td>\n",
       "      <td>122.750000</td>\n",
       "      <td>...</td>\n",
       "      <td>52.419998</td>\n",
       "      <td>52.959999</td>\n",
       "      <td>50.186852</td>\n",
       "      <td>8724300</td>\n",
       "      <td>37.669998</td>\n",
       "      <td>38.240002</td>\n",
       "      <td>37.520000</td>\n",
       "      <td>38.110001</td>\n",
       "      <td>38.110001</td>\n",
       "      <td>10728000</td>\n",
       "    </tr>\n",
       "    <tr>\n",
       "      <th>...</th>\n",
       "      <td>...</td>\n",
       "      <td>...</td>\n",
       "      <td>...</td>\n",
       "      <td>...</td>\n",
       "      <td>...</td>\n",
       "      <td>...</td>\n",
       "      <td>...</td>\n",
       "      <td>...</td>\n",
       "      <td>...</td>\n",
       "      <td>...</td>\n",
       "      <td>...</td>\n",
       "      <td>...</td>\n",
       "      <td>...</td>\n",
       "      <td>...</td>\n",
       "      <td>...</td>\n",
       "      <td>...</td>\n",
       "      <td>...</td>\n",
       "      <td>...</td>\n",
       "      <td>...</td>\n",
       "      <td>...</td>\n",
       "      <td>...</td>\n",
       "    </tr>\n",
       "    <tr>\n",
       "      <th>1713</th>\n",
       "      <td>2018-12-24</td>\n",
       "      <td>119.570000</td>\n",
       "      <td>120.139999</td>\n",
       "      <td>119.570000</td>\n",
       "      <td>120.019997</td>\n",
       "      <td>120.019997</td>\n",
       "      <td>9736400</td>\n",
       "      <td>239.039993</td>\n",
       "      <td>240.839996</td>\n",
       "      <td>234.270004</td>\n",
       "      <td>...</td>\n",
       "      <td>20.650000</td>\n",
       "      <td>21.090000</td>\n",
       "      <td>21.090000</td>\n",
       "      <td>60507000</td>\n",
       "      <td>9.490000</td>\n",
       "      <td>9.520000</td>\n",
       "      <td>9.280000</td>\n",
       "      <td>9.290000</td>\n",
       "      <td>9.290000</td>\n",
       "      <td>21598200</td>\n",
       "    </tr>\n",
       "    <tr>\n",
       "      <th>1714</th>\n",
       "      <td>2018-12-26</td>\n",
       "      <td>120.620003</td>\n",
       "      <td>121.000000</td>\n",
       "      <td>119.570000</td>\n",
       "      <td>119.660004</td>\n",
       "      <td>119.660004</td>\n",
       "      <td>14293500</td>\n",
       "      <td>235.970001</td>\n",
       "      <td>246.179993</td>\n",
       "      <td>233.759995</td>\n",
       "      <td>...</td>\n",
       "      <td>20.530001</td>\n",
       "      <td>20.620001</td>\n",
       "      <td>20.620001</td>\n",
       "      <td>76365200</td>\n",
       "      <td>9.250000</td>\n",
       "      <td>9.920000</td>\n",
       "      <td>9.230000</td>\n",
       "      <td>9.900000</td>\n",
       "      <td>9.900000</td>\n",
       "      <td>40978800</td>\n",
       "    </tr>\n",
       "    <tr>\n",
       "      <th>1715</th>\n",
       "      <td>2018-12-27</td>\n",
       "      <td>120.570000</td>\n",
       "      <td>120.900002</td>\n",
       "      <td>120.139999</td>\n",
       "      <td>120.570000</td>\n",
       "      <td>120.570000</td>\n",
       "      <td>11874400</td>\n",
       "      <td>242.570007</td>\n",
       "      <td>248.289993</td>\n",
       "      <td>238.960007</td>\n",
       "      <td>...</td>\n",
       "      <td>20.700001</td>\n",
       "      <td>20.969999</td>\n",
       "      <td>20.969999</td>\n",
       "      <td>52393000</td>\n",
       "      <td>9.590000</td>\n",
       "      <td>9.650000</td>\n",
       "      <td>9.370000</td>\n",
       "      <td>9.620000</td>\n",
       "      <td>9.620000</td>\n",
       "      <td>36578700</td>\n",
       "    </tr>\n",
       "    <tr>\n",
       "      <th>1716</th>\n",
       "      <td>2018-12-28</td>\n",
       "      <td>120.800003</td>\n",
       "      <td>121.080002</td>\n",
       "      <td>120.720001</td>\n",
       "      <td>121.059998</td>\n",
       "      <td>121.059998</td>\n",
       "      <td>6864700</td>\n",
       "      <td>249.580002</td>\n",
       "      <td>251.399994</td>\n",
       "      <td>246.449997</td>\n",
       "      <td>...</td>\n",
       "      <td>20.570000</td>\n",
       "      <td>20.600000</td>\n",
       "      <td>20.600000</td>\n",
       "      <td>49835000</td>\n",
       "      <td>9.540000</td>\n",
       "      <td>9.650000</td>\n",
       "      <td>9.380000</td>\n",
       "      <td>9.530000</td>\n",
       "      <td>9.530000</td>\n",
       "      <td>22803400</td>\n",
       "    </tr>\n",
       "    <tr>\n",
       "      <th>1717</th>\n",
       "      <td>2018-12-31</td>\n",
       "      <td>120.980003</td>\n",
       "      <td>121.260002</td>\n",
       "      <td>120.830002</td>\n",
       "      <td>121.250000</td>\n",
       "      <td>121.250000</td>\n",
       "      <td>8449400</td>\n",
       "      <td>249.559998</td>\n",
       "      <td>250.190002</td>\n",
       "      <td>247.470001</td>\n",
       "      <td>...</td>\n",
       "      <td>20.559999</td>\n",
       "      <td>21.090000</td>\n",
       "      <td>21.090000</td>\n",
       "      <td>53866600</td>\n",
       "      <td>9.630000</td>\n",
       "      <td>9.710000</td>\n",
       "      <td>9.440000</td>\n",
       "      <td>9.660000</td>\n",
       "      <td>9.660000</td>\n",
       "      <td>28417400</td>\n",
       "    </tr>\n",
       "  </tbody>\n",
       "</table>\n",
       "<p>1718 rows × 81 columns</p>\n",
       "</div>"
      ],
      "text/plain": [
       "            Date        Open        High         Low       Close   Adj Close  \\\n",
       "0     2011-12-15  154.740005  154.949997  151.710007  152.330002  152.330002   \n",
       "1     2011-12-16  154.309998  155.369995  153.899994  155.229996  155.229996   \n",
       "2     2011-12-19  155.479996  155.860001  154.360001  154.869995  154.869995   \n",
       "3     2011-12-20  156.820007  157.429993  156.580002  156.979996  156.979996   \n",
       "4     2011-12-21  156.979996  157.529999  156.130005  157.160004  157.160004   \n",
       "...          ...         ...         ...         ...         ...         ...   \n",
       "1713  2018-12-24  119.570000  120.139999  119.570000  120.019997  120.019997   \n",
       "1714  2018-12-26  120.620003  121.000000  119.570000  119.660004  119.660004   \n",
       "1715  2018-12-27  120.570000  120.900002  120.139999  120.570000  120.570000   \n",
       "1716  2018-12-28  120.800003  121.080002  120.720001  121.059998  121.059998   \n",
       "1717  2018-12-31  120.980003  121.260002  120.830002  121.250000  121.250000   \n",
       "\n",
       "        Volume     SP_open     SP_high      SP_low  ...    GDX_Low  GDX_Close  \\\n",
       "0     21521900  123.029999  123.199997  121.989998  ...  51.570000  51.680000   \n",
       "1     18124300  122.230003  122.949997  121.300003  ...  52.040001  52.680000   \n",
       "2     12547200  122.059998  122.320000  120.029999  ...  51.029999  51.169998   \n",
       "3      9136300  122.180000  124.139999  120.370003  ...  52.369999  52.990002   \n",
       "4     11996100  123.930000  124.360001  122.750000  ...  52.419998  52.959999   \n",
       "...        ...         ...         ...         ...  ...        ...        ...   \n",
       "1713   9736400  239.039993  240.839996  234.270004  ...  20.650000  21.090000   \n",
       "1714  14293500  235.970001  246.179993  233.759995  ...  20.530001  20.620001   \n",
       "1715  11874400  242.570007  248.289993  238.960007  ...  20.700001  20.969999   \n",
       "1716   6864700  249.580002  251.399994  246.449997  ...  20.570000  20.600000   \n",
       "1717   8449400  249.559998  250.190002  247.470001  ...  20.559999  21.090000   \n",
       "\n",
       "      GDX_Adj Close  GDX_Volume   USO_Open   USO_High    USO_Low  USO_Close  \\\n",
       "0         48.973877    20605600  36.900002  36.939999  36.049999  36.130001   \n",
       "1         49.921513    16285400  36.180000  36.500000  35.730000  36.270000   \n",
       "2         48.490578    15120200  36.389999  36.450001  35.930000  36.200001   \n",
       "3         50.215282    11644900  37.299999  37.610001  37.220001  37.560001   \n",
       "4         50.186852     8724300  37.669998  38.240002  37.520000  38.110001   \n",
       "...             ...         ...        ...        ...        ...        ...   \n",
       "1713      21.090000    60507000   9.490000   9.520000   9.280000   9.290000   \n",
       "1714      20.620001    76365200   9.250000   9.920000   9.230000   9.900000   \n",
       "1715      20.969999    52393000   9.590000   9.650000   9.370000   9.620000   \n",
       "1716      20.600000    49835000   9.540000   9.650000   9.380000   9.530000   \n",
       "1717      21.090000    53866600   9.630000   9.710000   9.440000   9.660000   \n",
       "\n",
       "      USO_Adj Close  USO_Volume  \n",
       "0         36.130001    12616700  \n",
       "1         36.270000    12578800  \n",
       "2         36.200001     7418200  \n",
       "3         37.560001    10041600  \n",
       "4         38.110001    10728000  \n",
       "...             ...         ...  \n",
       "1713       9.290000    21598200  \n",
       "1714       9.900000    40978800  \n",
       "1715       9.620000    36578700  \n",
       "1716       9.530000    22803400  \n",
       "1717       9.660000    28417400  \n",
       "\n",
       "[1718 rows x 81 columns]"
      ]
     },
     "execution_count": 4,
     "metadata": {},
     "output_type": "execute_result"
    }
   ],
   "source": [
    "df"
   ]
  },
  {
   "cell_type": "code",
   "execution_count": 5,
   "metadata": {
    "ExecuteTime": {
     "end_time": "2022-08-20T20:02:28.264688Z",
     "start_time": "2022-08-20T20:02:28.257686Z"
    }
   },
   "outputs": [
    {
     "data": {
      "text/plain": [
       "Index(['Date', 'Open', 'High', 'Low', 'Close', 'Adj Close', 'Volume',\n",
       "       'SP_open', 'SP_high', 'SP_low', 'SP_close', 'SP_Ajclose', 'SP_volume',\n",
       "       'DJ_open', 'DJ_high', 'DJ_low', 'DJ_close', 'DJ_Ajclose', 'DJ_volume',\n",
       "       'EG_open', 'EG_high', 'EG_low', 'EG_close', 'EG_Ajclose', 'EG_volume',\n",
       "       'EU_Price', 'EU_open', 'EU_high', 'EU_low', 'EU_Trend', 'OF_Price',\n",
       "       'OF_Open', 'OF_High', 'OF_Low', 'OF_Volume', 'OF_Trend', 'OS_Price',\n",
       "       'OS_Open', 'OS_High', 'OS_Low', 'OS_Trend', 'SF_Price', 'SF_Open',\n",
       "       'SF_High', 'SF_Low', 'SF_Volume', 'SF_Trend', 'USB_Price', 'USB_Open',\n",
       "       'USB_High', 'USB_Low', 'USB_Trend', 'PLT_Price', 'PLT_Open', 'PLT_High',\n",
       "       'PLT_Low', 'PLT_Trend', 'PLD_Price', 'PLD_Open', 'PLD_High', 'PLD_Low',\n",
       "       'PLD_Trend', 'RHO_PRICE', 'USDI_Price', 'USDI_Open', 'USDI_High',\n",
       "       'USDI_Low', 'USDI_Volume', 'USDI_Trend', 'GDX_Open', 'GDX_High',\n",
       "       'GDX_Low', 'GDX_Close', 'GDX_Adj Close', 'GDX_Volume', 'USO_Open',\n",
       "       'USO_High', 'USO_Low', 'USO_Close', 'USO_Adj Close', 'USO_Volume'],\n",
       "      dtype='object')"
      ]
     },
     "execution_count": 5,
     "metadata": {},
     "output_type": "execute_result"
    }
   ],
   "source": [
    "df.columns"
   ]
  },
  {
   "cell_type": "code",
   "execution_count": 6,
   "metadata": {
    "ExecuteTime": {
     "end_time": "2022-08-20T20:02:28.792761Z",
     "start_time": "2022-08-20T20:02:28.769756Z"
    }
   },
   "outputs": [
    {
     "name": "stdout",
     "output_type": "stream",
     "text": [
      "<class 'pandas.core.frame.DataFrame'>\n",
      "RangeIndex: 1718 entries, 0 to 1717\n",
      "Data columns (total 81 columns):\n",
      " #   Column         Non-Null Count  Dtype  \n",
      "---  ------         --------------  -----  \n",
      " 0   Date           1718 non-null   object \n",
      " 1   Open           1718 non-null   float64\n",
      " 2   High           1718 non-null   float64\n",
      " 3   Low            1718 non-null   float64\n",
      " 4   Close          1718 non-null   float64\n",
      " 5   Adj Close      1718 non-null   float64\n",
      " 6   Volume         1718 non-null   int64  \n",
      " 7   SP_open        1718 non-null   float64\n",
      " 8   SP_high        1718 non-null   float64\n",
      " 9   SP_low         1718 non-null   float64\n",
      " 10  SP_close       1718 non-null   float64\n",
      " 11  SP_Ajclose     1718 non-null   float64\n",
      " 12  SP_volume      1718 non-null   int64  \n",
      " 13  DJ_open        1718 non-null   float64\n",
      " 14  DJ_high        1718 non-null   float64\n",
      " 15  DJ_low         1718 non-null   float64\n",
      " 16  DJ_close       1718 non-null   float64\n",
      " 17  DJ_Ajclose     1718 non-null   float64\n",
      " 18  DJ_volume      1718 non-null   int64  \n",
      " 19  EG_open        1718 non-null   float64\n",
      " 20  EG_high        1718 non-null   float64\n",
      " 21  EG_low         1718 non-null   float64\n",
      " 22  EG_close       1718 non-null   float64\n",
      " 23  EG_Ajclose     1718 non-null   float64\n",
      " 24  EG_volume      1718 non-null   int64  \n",
      " 25  EU_Price       1718 non-null   float64\n",
      " 26  EU_open        1718 non-null   float64\n",
      " 27  EU_high        1718 non-null   float64\n",
      " 28  EU_low         1718 non-null   float64\n",
      " 29  EU_Trend       1718 non-null   int64  \n",
      " 30  OF_Price       1718 non-null   float64\n",
      " 31  OF_Open        1718 non-null   float64\n",
      " 32  OF_High        1718 non-null   float64\n",
      " 33  OF_Low         1718 non-null   float64\n",
      " 34  OF_Volume      1718 non-null   int64  \n",
      " 35  OF_Trend       1718 non-null   int64  \n",
      " 36  OS_Price       1718 non-null   float64\n",
      " 37  OS_Open        1718 non-null   float64\n",
      " 38  OS_High        1718 non-null   float64\n",
      " 39  OS_Low         1718 non-null   float64\n",
      " 40  OS_Trend       1718 non-null   int64  \n",
      " 41  SF_Price       1718 non-null   int64  \n",
      " 42  SF_Open        1718 non-null   int64  \n",
      " 43  SF_High        1718 non-null   int64  \n",
      " 44  SF_Low         1718 non-null   int64  \n",
      " 45  SF_Volume      1718 non-null   int64  \n",
      " 46  SF_Trend       1718 non-null   int64  \n",
      " 47  USB_Price      1718 non-null   float64\n",
      " 48  USB_Open       1718 non-null   float64\n",
      " 49  USB_High       1718 non-null   float64\n",
      " 50  USB_Low        1718 non-null   float64\n",
      " 51  USB_Trend      1718 non-null   int64  \n",
      " 52  PLT_Price      1718 non-null   float64\n",
      " 53  PLT_Open       1718 non-null   float64\n",
      " 54  PLT_High       1718 non-null   float64\n",
      " 55  PLT_Low        1718 non-null   float64\n",
      " 56  PLT_Trend      1718 non-null   int64  \n",
      " 57  PLD_Price      1718 non-null   float64\n",
      " 58  PLD_Open       1718 non-null   float64\n",
      " 59  PLD_High       1718 non-null   float64\n",
      " 60  PLD_Low        1718 non-null   float64\n",
      " 61  PLD_Trend      1718 non-null   int64  \n",
      " 62  RHO_PRICE      1718 non-null   int64  \n",
      " 63  USDI_Price     1718 non-null   float64\n",
      " 64  USDI_Open      1718 non-null   float64\n",
      " 65  USDI_High      1718 non-null   float64\n",
      " 66  USDI_Low       1718 non-null   float64\n",
      " 67  USDI_Volume    1718 non-null   int64  \n",
      " 68  USDI_Trend     1718 non-null   int64  \n",
      " 69  GDX_Open       1718 non-null   float64\n",
      " 70  GDX_High       1718 non-null   float64\n",
      " 71  GDX_Low        1718 non-null   float64\n",
      " 72  GDX_Close      1718 non-null   float64\n",
      " 73  GDX_Adj Close  1718 non-null   float64\n",
      " 74  GDX_Volume     1718 non-null   int64  \n",
      " 75  USO_Open       1718 non-null   float64\n",
      " 76  USO_High       1718 non-null   float64\n",
      " 77  USO_Low        1718 non-null   float64\n",
      " 78  USO_Close      1718 non-null   float64\n",
      " 79  USO_Adj Close  1718 non-null   float64\n",
      " 80  USO_Volume     1718 non-null   int64  \n",
      "dtypes: float64(58), int64(22), object(1)\n",
      "memory usage: 1.1+ MB\n"
     ]
    }
   ],
   "source": [
    "df.info()"
   ]
  },
  {
   "cell_type": "code",
   "execution_count": 7,
   "metadata": {
    "ExecuteTime": {
     "end_time": "2022-08-20T20:02:29.294354Z",
     "start_time": "2022-08-20T20:02:29.281352Z"
    }
   },
   "outputs": [
    {
     "data": {
      "text/plain": [
       "Index(['Date', 'Open', 'High', 'Low', 'Close', 'Adj Close', 'Volume',\n",
       "       'SP_open', 'SP_high', 'SP_low', 'SP_close', 'SP_Ajclose', 'SP_volume',\n",
       "       'DJ_open', 'DJ_high', 'DJ_low', 'DJ_close', 'DJ_Ajclose', 'DJ_volume',\n",
       "       'EG_open', 'EG_high', 'EG_low', 'EG_close', 'EG_Ajclose', 'EG_volume',\n",
       "       'EU_Price', 'EU_open', 'EU_high', 'EU_low', 'EU_Trend', 'OF_Price',\n",
       "       'OF_Open', 'OF_High', 'OF_Low', 'OF_Volume', 'OF_Trend', 'OS_Price',\n",
       "       'OS_Open', 'OS_High', 'OS_Low', 'OS_Trend', 'SF_Price', 'SF_Open',\n",
       "       'SF_High', 'SF_Low', 'SF_Volume', 'SF_Trend', 'USB_Price', 'USB_Open',\n",
       "       'USB_High', 'USB_Low', 'USB_Trend', 'PLT_Price', 'PLT_Open', 'PLT_High',\n",
       "       'PLT_Low', 'PLT_Trend', 'PLD_Price', 'PLD_Open', 'PLD_High', 'PLD_Low',\n",
       "       'PLD_Trend', 'RHO_PRICE', 'USDI_Price', 'USDI_Open', 'USDI_High',\n",
       "       'USDI_Low', 'USDI_Volume', 'USDI_Trend', 'GDX_Open', 'GDX_High',\n",
       "       'GDX_Low', 'GDX_Close', 'GDX_Adj Close', 'GDX_Volume', 'USO_Open',\n",
       "       'USO_High', 'USO_Low', 'USO_Close', 'USO_Adj Close', 'USO_Volume'],\n",
       "      dtype='object')"
      ]
     },
     "execution_count": 7,
     "metadata": {},
     "output_type": "execute_result"
    }
   ],
   "source": [
    "df.columns"
   ]
  },
  {
   "cell_type": "code",
   "execution_count": 8,
   "metadata": {
    "ExecuteTime": {
     "end_time": "2022-08-20T20:02:29.873828Z",
     "start_time": "2022-08-20T20:02:29.857826Z"
    }
   },
   "outputs": [
    {
     "name": "stdout",
     "output_type": "stream",
     "text": [
      "105.597549\n",
      "11866.38965\n",
      "72.364037\n",
      "155.229996\n"
     ]
    }
   ],
   "source": [
    "print(df['SP_Ajclose'][1])\n",
    "print(df['DJ_Ajclose'][1])\n",
    "print(df['EG_Ajclose'][1])\n",
    "print(df['Adj Close'][1])"
   ]
  },
  {
   "cell_type": "code",
   "execution_count": 9,
   "metadata": {
    "ExecuteTime": {
     "end_time": "2022-08-20T20:02:30.343914Z",
     "start_time": "2022-08-20T20:02:30.337913Z"
    }
   },
   "outputs": [],
   "source": [
    "x = df[['SP_Ajclose','DJ_Ajclose','EG_Ajclose', 'EU_Price',\n",
    "        'OF_Price', 'OS_Price', 'SF_Price', 'PLT_Price',\n",
    "      'USDI_Price', 'GDX_Adj Close', 'USO_Adj Close' ]]"
   ]
  },
  {
   "cell_type": "code",
   "execution_count": 13,
   "metadata": {
    "ExecuteTime": {
     "end_time": "2022-08-20T20:02:59.392118Z",
     "start_time": "2022-08-20T20:02:59.380116Z"
    }
   },
   "outputs": [],
   "source": [
    "y = df['Adj Close']"
   ]
  },
  {
   "cell_type": "code",
   "execution_count": 14,
   "metadata": {
    "ExecuteTime": {
     "end_time": "2022-08-20T20:02:59.957731Z",
     "start_time": "2022-08-20T20:02:59.937726Z"
    }
   },
   "outputs": [
    {
     "data": {
      "text/html": [
       "<div>\n",
       "<style scoped>\n",
       "    .dataframe tbody tr th:only-of-type {\n",
       "        vertical-align: middle;\n",
       "    }\n",
       "\n",
       "    .dataframe tbody tr th {\n",
       "        vertical-align: top;\n",
       "    }\n",
       "\n",
       "    .dataframe thead th {\n",
       "        text-align: right;\n",
       "    }\n",
       "</style>\n",
       "<table border=\"1\" class=\"dataframe\">\n",
       "  <thead>\n",
       "    <tr style=\"text-align: right;\">\n",
       "      <th></th>\n",
       "      <th>Adj Close</th>\n",
       "      <th>SP_Ajclose</th>\n",
       "      <th>DJ_Ajclose</th>\n",
       "      <th>EG_Ajclose</th>\n",
       "      <th>EU_Price</th>\n",
       "      <th>OF_Price</th>\n",
       "      <th>OS_Price</th>\n",
       "      <th>SF_Price</th>\n",
       "      <th>PLT_Price</th>\n",
       "      <th>USDI_Price</th>\n",
       "      <th>GDX_Adj Close</th>\n",
       "      <th>USO_Adj Close</th>\n",
       "    </tr>\n",
       "  </thead>\n",
       "  <tbody>\n",
       "    <tr>\n",
       "      <th>Adj Close</th>\n",
       "      <td>1.000000</td>\n",
       "      <td>-0.666071</td>\n",
       "      <td>-0.588411</td>\n",
       "      <td>0.859850</td>\n",
       "      <td>0.581036</td>\n",
       "      <td>0.710693</td>\n",
       "      <td>0.630817</td>\n",
       "      <td>0.947420</td>\n",
       "      <td>0.775861</td>\n",
       "      <td>-0.721569</td>\n",
       "      <td>0.974980</td>\n",
       "      <td>0.635675</td>\n",
       "    </tr>\n",
       "    <tr>\n",
       "      <th>SP_Ajclose</th>\n",
       "      <td>-0.666071</td>\n",
       "      <td>1.000000</td>\n",
       "      <td>0.989509</td>\n",
       "      <td>-0.902488</td>\n",
       "      <td>-0.558575</td>\n",
       "      <td>-0.628413</td>\n",
       "      <td>-0.595273</td>\n",
       "      <td>-0.708038</td>\n",
       "      <td>-0.864895</td>\n",
       "      <td>0.697188</td>\n",
       "      <td>-0.657799</td>\n",
       "      <td>-0.785103</td>\n",
       "    </tr>\n",
       "    <tr>\n",
       "      <th>DJ_Ajclose</th>\n",
       "      <td>-0.588411</td>\n",
       "      <td>0.989509</td>\n",
       "      <td>1.000000</td>\n",
       "      <td>-0.859977</td>\n",
       "      <td>-0.478621</td>\n",
       "      <td>-0.536211</td>\n",
       "      <td>-0.507989</td>\n",
       "      <td>-0.646737</td>\n",
       "      <td>-0.811543</td>\n",
       "      <td>0.618134</td>\n",
       "      <td>-0.588374</td>\n",
       "      <td>-0.721378</td>\n",
       "    </tr>\n",
       "    <tr>\n",
       "      <th>EG_Ajclose</th>\n",
       "      <td>0.859850</td>\n",
       "      <td>-0.902488</td>\n",
       "      <td>-0.859977</td>\n",
       "      <td>1.000000</td>\n",
       "      <td>0.619230</td>\n",
       "      <td>0.747928</td>\n",
       "      <td>0.692771</td>\n",
       "      <td>0.869780</td>\n",
       "      <td>0.908749</td>\n",
       "      <td>-0.769361</td>\n",
       "      <td>0.867314</td>\n",
       "      <td>0.814141</td>\n",
       "    </tr>\n",
       "    <tr>\n",
       "      <th>EU_Price</th>\n",
       "      <td>0.581036</td>\n",
       "      <td>-0.558575</td>\n",
       "      <td>-0.478621</td>\n",
       "      <td>0.619230</td>\n",
       "      <td>1.000000</td>\n",
       "      <td>0.903890</td>\n",
       "      <td>0.918097</td>\n",
       "      <td>0.590900</td>\n",
       "      <td>0.821030</td>\n",
       "      <td>-0.970819</td>\n",
       "      <td>0.506262</td>\n",
       "      <td>0.887218</td>\n",
       "    </tr>\n",
       "    <tr>\n",
       "      <th>OF_Price</th>\n",
       "      <td>0.710693</td>\n",
       "      <td>-0.628413</td>\n",
       "      <td>-0.536211</td>\n",
       "      <td>0.747928</td>\n",
       "      <td>0.903890</td>\n",
       "      <td>1.000000</td>\n",
       "      <td>0.986421</td>\n",
       "      <td>0.734201</td>\n",
       "      <td>0.868344</td>\n",
       "      <td>-0.932621</td>\n",
       "      <td>0.665965</td>\n",
       "      <td>0.945406</td>\n",
       "    </tr>\n",
       "    <tr>\n",
       "      <th>OS_Price</th>\n",
       "      <td>0.630817</td>\n",
       "      <td>-0.595273</td>\n",
       "      <td>-0.507989</td>\n",
       "      <td>0.692771</td>\n",
       "      <td>0.918097</td>\n",
       "      <td>0.986421</td>\n",
       "      <td>1.000000</td>\n",
       "      <td>0.663126</td>\n",
       "      <td>0.843934</td>\n",
       "      <td>-0.924975</td>\n",
       "      <td>0.590622</td>\n",
       "      <td>0.949219</td>\n",
       "    </tr>\n",
       "    <tr>\n",
       "      <th>SF_Price</th>\n",
       "      <td>0.947420</td>\n",
       "      <td>-0.708038</td>\n",
       "      <td>-0.646737</td>\n",
       "      <td>0.869780</td>\n",
       "      <td>0.590900</td>\n",
       "      <td>0.734201</td>\n",
       "      <td>0.663126</td>\n",
       "      <td>1.000000</td>\n",
       "      <td>0.808133</td>\n",
       "      <td>-0.719465</td>\n",
       "      <td>0.934367</td>\n",
       "      <td>0.671612</td>\n",
       "    </tr>\n",
       "    <tr>\n",
       "      <th>PLT_Price</th>\n",
       "      <td>0.775861</td>\n",
       "      <td>-0.864895</td>\n",
       "      <td>-0.811543</td>\n",
       "      <td>0.908749</td>\n",
       "      <td>0.821030</td>\n",
       "      <td>0.868344</td>\n",
       "      <td>0.843934</td>\n",
       "      <td>0.808133</td>\n",
       "      <td>1.000000</td>\n",
       "      <td>-0.901038</td>\n",
       "      <td>0.734653</td>\n",
       "      <td>0.930607</td>\n",
       "    </tr>\n",
       "    <tr>\n",
       "      <th>USDI_Price</th>\n",
       "      <td>-0.721569</td>\n",
       "      <td>0.697188</td>\n",
       "      <td>0.618134</td>\n",
       "      <td>-0.769361</td>\n",
       "      <td>-0.970819</td>\n",
       "      <td>-0.932621</td>\n",
       "      <td>-0.924975</td>\n",
       "      <td>-0.719465</td>\n",
       "      <td>-0.901038</td>\n",
       "      <td>1.000000</td>\n",
       "      <td>-0.658763</td>\n",
       "      <td>-0.930767</td>\n",
       "    </tr>\n",
       "    <tr>\n",
       "      <th>GDX_Adj Close</th>\n",
       "      <td>0.974980</td>\n",
       "      <td>-0.657799</td>\n",
       "      <td>-0.588374</td>\n",
       "      <td>0.867314</td>\n",
       "      <td>0.506262</td>\n",
       "      <td>0.665965</td>\n",
       "      <td>0.590622</td>\n",
       "      <td>0.934367</td>\n",
       "      <td>0.734653</td>\n",
       "      <td>-0.658763</td>\n",
       "      <td>1.000000</td>\n",
       "      <td>0.600756</td>\n",
       "    </tr>\n",
       "    <tr>\n",
       "      <th>USO_Adj Close</th>\n",
       "      <td>0.635675</td>\n",
       "      <td>-0.785103</td>\n",
       "      <td>-0.721378</td>\n",
       "      <td>0.814141</td>\n",
       "      <td>0.887218</td>\n",
       "      <td>0.945406</td>\n",
       "      <td>0.949219</td>\n",
       "      <td>0.671612</td>\n",
       "      <td>0.930607</td>\n",
       "      <td>-0.930767</td>\n",
       "      <td>0.600756</td>\n",
       "      <td>1.000000</td>\n",
       "    </tr>\n",
       "  </tbody>\n",
       "</table>\n",
       "</div>"
      ],
      "text/plain": [
       "               Adj Close  SP_Ajclose  DJ_Ajclose  EG_Ajclose  EU_Price  \\\n",
       "Adj Close       1.000000   -0.666071   -0.588411    0.859850  0.581036   \n",
       "SP_Ajclose     -0.666071    1.000000    0.989509   -0.902488 -0.558575   \n",
       "DJ_Ajclose     -0.588411    0.989509    1.000000   -0.859977 -0.478621   \n",
       "EG_Ajclose      0.859850   -0.902488   -0.859977    1.000000  0.619230   \n",
       "EU_Price        0.581036   -0.558575   -0.478621    0.619230  1.000000   \n",
       "OF_Price        0.710693   -0.628413   -0.536211    0.747928  0.903890   \n",
       "OS_Price        0.630817   -0.595273   -0.507989    0.692771  0.918097   \n",
       "SF_Price        0.947420   -0.708038   -0.646737    0.869780  0.590900   \n",
       "PLT_Price       0.775861   -0.864895   -0.811543    0.908749  0.821030   \n",
       "USDI_Price     -0.721569    0.697188    0.618134   -0.769361 -0.970819   \n",
       "GDX_Adj Close   0.974980   -0.657799   -0.588374    0.867314  0.506262   \n",
       "USO_Adj Close   0.635675   -0.785103   -0.721378    0.814141  0.887218   \n",
       "\n",
       "               OF_Price  OS_Price  SF_Price  PLT_Price  USDI_Price  \\\n",
       "Adj Close      0.710693  0.630817  0.947420   0.775861   -0.721569   \n",
       "SP_Ajclose    -0.628413 -0.595273 -0.708038  -0.864895    0.697188   \n",
       "DJ_Ajclose    -0.536211 -0.507989 -0.646737  -0.811543    0.618134   \n",
       "EG_Ajclose     0.747928  0.692771  0.869780   0.908749   -0.769361   \n",
       "EU_Price       0.903890  0.918097  0.590900   0.821030   -0.970819   \n",
       "OF_Price       1.000000  0.986421  0.734201   0.868344   -0.932621   \n",
       "OS_Price       0.986421  1.000000  0.663126   0.843934   -0.924975   \n",
       "SF_Price       0.734201  0.663126  1.000000   0.808133   -0.719465   \n",
       "PLT_Price      0.868344  0.843934  0.808133   1.000000   -0.901038   \n",
       "USDI_Price    -0.932621 -0.924975 -0.719465  -0.901038    1.000000   \n",
       "GDX_Adj Close  0.665965  0.590622  0.934367   0.734653   -0.658763   \n",
       "USO_Adj Close  0.945406  0.949219  0.671612   0.930607   -0.930767   \n",
       "\n",
       "               GDX_Adj Close  USO_Adj Close  \n",
       "Adj Close           0.974980       0.635675  \n",
       "SP_Ajclose         -0.657799      -0.785103  \n",
       "DJ_Ajclose         -0.588374      -0.721378  \n",
       "EG_Ajclose          0.867314       0.814141  \n",
       "EU_Price            0.506262       0.887218  \n",
       "OF_Price            0.665965       0.945406  \n",
       "OS_Price            0.590622       0.949219  \n",
       "SF_Price            0.934367       0.671612  \n",
       "PLT_Price           0.734653       0.930607  \n",
       "USDI_Price         -0.658763      -0.930767  \n",
       "GDX_Adj Close       1.000000       0.600756  \n",
       "USO_Adj Close       0.600756       1.000000  "
      ]
     },
     "execution_count": 14,
     "metadata": {},
     "output_type": "execute_result"
    }
   ],
   "source": [
    "merged = pd.concat([y,x], axis=1)\n",
    "merged.corr()"
   ]
  },
  {
   "cell_type": "markdown",
   "metadata": {},
   "source": [
    "#  1. Linear Regression"
   ]
  },
  {
   "cell_type": "code",
   "execution_count": 58,
   "metadata": {
    "ExecuteTime": {
     "end_time": "2022-08-20T20:07:36.529437Z",
     "start_time": "2022-08-20T20:07:36.514424Z"
    }
   },
   "outputs": [
    {
     "data": {
      "text/plain": [
       "LinearRegression()"
      ]
     },
     "execution_count": 58,
     "metadata": {},
     "output_type": "execute_result"
    }
   ],
   "source": [
    "model = LinearRegression()\n",
    "model.fit(x,y)"
   ]
  },
  {
   "cell_type": "code",
   "execution_count": 59,
   "metadata": {
    "ExecuteTime": {
     "end_time": "2022-08-20T20:07:37.393459Z",
     "start_time": "2022-08-20T20:07:37.378457Z"
    }
   },
   "outputs": [
    {
     "data": {
      "text/html": [
       "<div>\n",
       "<style scoped>\n",
       "    .dataframe tbody tr th:only-of-type {\n",
       "        vertical-align: middle;\n",
       "    }\n",
       "\n",
       "    .dataframe tbody tr th {\n",
       "        vertical-align: top;\n",
       "    }\n",
       "\n",
       "    .dataframe thead th {\n",
       "        text-align: right;\n",
       "    }\n",
       "</style>\n",
       "<table border=\"1\" class=\"dataframe\">\n",
       "  <thead>\n",
       "    <tr style=\"text-align: right;\">\n",
       "      <th></th>\n",
       "      <th>SP_Ajclose</th>\n",
       "      <th>DJ_Ajclose</th>\n",
       "      <th>EG_Ajclose</th>\n",
       "      <th>EU_Price</th>\n",
       "      <th>OF_Price</th>\n",
       "      <th>OS_Price</th>\n",
       "      <th>SF_Price</th>\n",
       "      <th>PLT_Price</th>\n",
       "      <th>USDI_Price</th>\n",
       "      <th>GDX_Adj Close</th>\n",
       "      <th>USO_Adj Close</th>\n",
       "    </tr>\n",
       "  </thead>\n",
       "  <tbody>\n",
       "    <tr>\n",
       "      <th>0</th>\n",
       "      <td>105.441238</td>\n",
       "      <td>11868.80957</td>\n",
       "      <td>70.431755</td>\n",
       "      <td>1.3018</td>\n",
       "      <td>105.09</td>\n",
       "      <td>93.42</td>\n",
       "      <td>53604</td>\n",
       "      <td>1414.65</td>\n",
       "      <td>80.341</td>\n",
       "      <td>48.973877</td>\n",
       "      <td>36.130001</td>\n",
       "    </tr>\n",
       "    <tr>\n",
       "      <th>1</th>\n",
       "      <td>105.597549</td>\n",
       "      <td>11866.38965</td>\n",
       "      <td>72.364037</td>\n",
       "      <td>1.3035</td>\n",
       "      <td>103.35</td>\n",
       "      <td>93.79</td>\n",
       "      <td>53458</td>\n",
       "      <td>1420.25</td>\n",
       "      <td>80.249</td>\n",
       "      <td>49.921513</td>\n",
       "      <td>36.270000</td>\n",
       "    </tr>\n",
       "    <tr>\n",
       "      <th>2</th>\n",
       "      <td>104.468536</td>\n",
       "      <td>11766.25977</td>\n",
       "      <td>62.509384</td>\n",
       "      <td>1.2995</td>\n",
       "      <td>103.64</td>\n",
       "      <td>94.09</td>\n",
       "      <td>52961</td>\n",
       "      <td>1411.10</td>\n",
       "      <td>80.207</td>\n",
       "      <td>48.490578</td>\n",
       "      <td>36.200001</td>\n",
       "    </tr>\n",
       "    <tr>\n",
       "      <th>3</th>\n",
       "      <td>107.629784</td>\n",
       "      <td>12103.58008</td>\n",
       "      <td>64.731514</td>\n",
       "      <td>1.3079</td>\n",
       "      <td>106.73</td>\n",
       "      <td>95.55</td>\n",
       "      <td>53487</td>\n",
       "      <td>1434.75</td>\n",
       "      <td>80.273</td>\n",
       "      <td>50.215282</td>\n",
       "      <td>37.560001</td>\n",
       "    </tr>\n",
       "    <tr>\n",
       "      <th>4</th>\n",
       "      <td>107.838242</td>\n",
       "      <td>12107.74023</td>\n",
       "      <td>66.180725</td>\n",
       "      <td>1.3045</td>\n",
       "      <td>107.71</td>\n",
       "      <td>99.01</td>\n",
       "      <td>53148</td>\n",
       "      <td>1429.05</td>\n",
       "      <td>80.350</td>\n",
       "      <td>50.186852</td>\n",
       "      <td>38.110001</td>\n",
       "    </tr>\n",
       "    <tr>\n",
       "      <th>...</th>\n",
       "      <td>...</td>\n",
       "      <td>...</td>\n",
       "      <td>...</td>\n",
       "      <td>...</td>\n",
       "      <td>...</td>\n",
       "      <td>...</td>\n",
       "      <td>...</td>\n",
       "      <td>...</td>\n",
       "      <td>...</td>\n",
       "      <td>...</td>\n",
       "      <td>...</td>\n",
       "    </tr>\n",
       "    <tr>\n",
       "      <th>1713</th>\n",
       "      <td>234.339996</td>\n",
       "      <td>21792.19922</td>\n",
       "      <td>2.950000</td>\n",
       "      <td>1.1400</td>\n",
       "      <td>50.47</td>\n",
       "      <td>42.27</td>\n",
       "      <td>37541</td>\n",
       "      <td>788.40</td>\n",
       "      <td>96.007</td>\n",
       "      <td>21.090000</td>\n",
       "      <td>9.290000</td>\n",
       "    </tr>\n",
       "    <tr>\n",
       "      <th>1714</th>\n",
       "      <td>246.179993</td>\n",
       "      <td>22878.44922</td>\n",
       "      <td>3.000000</td>\n",
       "      <td>1.1353</td>\n",
       "      <td>54.47</td>\n",
       "      <td>46.39</td>\n",
       "      <td>38253</td>\n",
       "      <td>799.25</td>\n",
       "      <td>96.568</td>\n",
       "      <td>20.620001</td>\n",
       "      <td>9.900000</td>\n",
       "    </tr>\n",
       "    <tr>\n",
       "      <th>1715</th>\n",
       "      <td>248.070007</td>\n",
       "      <td>23138.82031</td>\n",
       "      <td>2.950000</td>\n",
       "      <td>1.1430</td>\n",
       "      <td>52.16</td>\n",
       "      <td>45.23</td>\n",
       "      <td>38690</td>\n",
       "      <td>795.50</td>\n",
       "      <td>96.001</td>\n",
       "      <td>20.969999</td>\n",
       "      <td>9.620000</td>\n",
       "    </tr>\n",
       "    <tr>\n",
       "      <th>1716</th>\n",
       "      <td>247.750000</td>\n",
       "      <td>23062.40039</td>\n",
       "      <td>2.900000</td>\n",
       "      <td>1.1438</td>\n",
       "      <td>52.20</td>\n",
       "      <td>44.92</td>\n",
       "      <td>38706</td>\n",
       "      <td>790.25</td>\n",
       "      <td>95.965</td>\n",
       "      <td>20.600000</td>\n",
       "      <td>9.530000</td>\n",
       "    </tr>\n",
       "    <tr>\n",
       "      <th>1717</th>\n",
       "      <td>249.919998</td>\n",
       "      <td>23327.46094</td>\n",
       "      <td>2.880000</td>\n",
       "      <td>1.1470</td>\n",
       "      <td>53.80</td>\n",
       "      <td>45.00</td>\n",
       "      <td>38821</td>\n",
       "      <td>801.40</td>\n",
       "      <td>95.735</td>\n",
       "      <td>21.090000</td>\n",
       "      <td>9.660000</td>\n",
       "    </tr>\n",
       "  </tbody>\n",
       "</table>\n",
       "<p>1718 rows × 11 columns</p>\n",
       "</div>"
      ],
      "text/plain": [
       "      SP_Ajclose   DJ_Ajclose  EG_Ajclose  EU_Price  OF_Price  OS_Price  \\\n",
       "0     105.441238  11868.80957   70.431755    1.3018    105.09     93.42   \n",
       "1     105.597549  11866.38965   72.364037    1.3035    103.35     93.79   \n",
       "2     104.468536  11766.25977   62.509384    1.2995    103.64     94.09   \n",
       "3     107.629784  12103.58008   64.731514    1.3079    106.73     95.55   \n",
       "4     107.838242  12107.74023   66.180725    1.3045    107.71     99.01   \n",
       "...          ...          ...         ...       ...       ...       ...   \n",
       "1713  234.339996  21792.19922    2.950000    1.1400     50.47     42.27   \n",
       "1714  246.179993  22878.44922    3.000000    1.1353     54.47     46.39   \n",
       "1715  248.070007  23138.82031    2.950000    1.1430     52.16     45.23   \n",
       "1716  247.750000  23062.40039    2.900000    1.1438     52.20     44.92   \n",
       "1717  249.919998  23327.46094    2.880000    1.1470     53.80     45.00   \n",
       "\n",
       "      SF_Price  PLT_Price  USDI_Price  GDX_Adj Close  USO_Adj Close  \n",
       "0        53604    1414.65      80.341      48.973877      36.130001  \n",
       "1        53458    1420.25      80.249      49.921513      36.270000  \n",
       "2        52961    1411.10      80.207      48.490578      36.200001  \n",
       "3        53487    1434.75      80.273      50.215282      37.560001  \n",
       "4        53148    1429.05      80.350      50.186852      38.110001  \n",
       "...        ...        ...         ...            ...            ...  \n",
       "1713     37541     788.40      96.007      21.090000       9.290000  \n",
       "1714     38253     799.25      96.568      20.620001       9.900000  \n",
       "1715     38690     795.50      96.001      20.969999       9.620000  \n",
       "1716     38706     790.25      95.965      20.600000       9.530000  \n",
       "1717     38821     801.40      95.735      21.090000       9.660000  \n",
       "\n",
       "[1718 rows x 11 columns]"
      ]
     },
     "execution_count": 59,
     "metadata": {},
     "output_type": "execute_result"
    }
   ],
   "source": [
    "x "
   ]
  },
  {
   "cell_type": "code",
   "execution_count": 60,
   "metadata": {
    "ExecuteTime": {
     "end_time": "2022-08-20T20:07:40.624298Z",
     "start_time": "2022-08-20T20:07:40.610295Z"
    }
   },
   "outputs": [
    {
     "data": {
      "text/plain": [
       "0.9828777600233676"
      ]
     },
     "execution_count": 60,
     "metadata": {},
     "output_type": "execute_result"
    }
   ],
   "source": [
    "model.score(x,y)"
   ]
  },
  {
   "cell_type": "code",
   "execution_count": 61,
   "metadata": {
    "ExecuteTime": {
     "end_time": "2022-08-20T20:07:42.931236Z",
     "start_time": "2022-08-20T20:07:42.914232Z"
    }
   },
   "outputs": [
    {
     "data": {
      "text/plain": [
       "array([159.04064782])"
      ]
     },
     "execution_count": 61,
     "metadata": {},
     "output_type": "execute_result"
    }
   ],
   "source": [
    "model.predict([[105.441238, 11868.80957, 70.431755, 1.3018,105.09, 93.42, 53604, 1414.65, 80.341, 48.973877, 36.130001]])"
   ]
  },
  {
   "cell_type": "code",
   "execution_count": 62,
   "metadata": {
    "ExecuteTime": {
     "end_time": "2022-08-20T20:07:46.914303Z",
     "start_time": "2022-08-20T20:07:46.897101Z"
    }
   },
   "outputs": [
    {
     "data": {
      "text/plain": [
       "152.330002"
      ]
     },
     "execution_count": 62,
     "metadata": {},
     "output_type": "execute_result"
    }
   ],
   "source": [
    "y[0]"
   ]
  },
  {
   "cell_type": "code",
   "execution_count": 20,
   "metadata": {
    "ExecuteTime": {
     "end_time": "2022-08-20T20:03:14.725659Z",
     "start_time": "2022-08-20T20:03:14.706664Z"
    }
   },
   "outputs": [
    {
     "data": {
      "text/plain": [
       "LinearRegression()"
      ]
     },
     "execution_count": 20,
     "metadata": {},
     "output_type": "execute_result"
    }
   ],
   "source": [
    "model = LinearRegression()\n",
    "model.fit(x,y)"
   ]
  },
  {
   "cell_type": "code",
   "execution_count": 21,
   "metadata": {
    "ExecuteTime": {
     "end_time": "2022-08-20T20:03:15.646823Z",
     "start_time": "2022-08-20T20:03:15.633821Z"
    }
   },
   "outputs": [
    {
     "data": {
      "text/plain": [
       "0.9828777600233676"
      ]
     },
     "execution_count": 21,
     "metadata": {},
     "output_type": "execute_result"
    }
   ],
   "source": [
    "model.score(x,y)"
   ]
  },
  {
   "cell_type": "code",
   "execution_count": 24,
   "metadata": {
    "ExecuteTime": {
     "end_time": "2022-08-20T20:03:29.157245Z",
     "start_time": "2022-08-20T20:03:29.122237Z"
    }
   },
   "outputs": [
    {
     "data": {
      "text/plain": [
       "Open             0.998976\n",
       "High             0.999535\n",
       "Low              0.999532\n",
       "Close            1.000000\n",
       "Adj Close        1.000000\n",
       "                   ...   \n",
       "USO_High         0.635311\n",
       "USO_Low          0.634732\n",
       "USO_Close        0.635675\n",
       "USO_Adj Close    0.635675\n",
       "USO_Volume      -0.456193\n",
       "Name: Adj Close, Length: 80, dtype: float64"
      ]
     },
     "execution_count": 24,
     "metadata": {},
     "output_type": "execute_result"
    }
   ],
   "source": [
    "df.corr()['Adj Close']"
   ]
  },
  {
   "cell_type": "markdown",
   "metadata": {
    "ExecuteTime": {
     "end_time": "2022-08-20T16:46:40.266532Z",
     "start_time": "2022-08-20T16:46:40.256530Z"
    }
   },
   "source": [
    "# 2.Train - Test - Split"
   ]
  },
  {
   "cell_type": "code",
   "execution_count": 63,
   "metadata": {
    "ExecuteTime": {
     "end_time": "2022-08-20T20:08:04.296665Z",
     "start_time": "2022-08-20T20:08:04.289664Z"
    }
   },
   "outputs": [],
   "source": [
    "x_train, x_test, y_train, y_test = train_test_split(x,y, train_size = .8)"
   ]
  },
  {
   "cell_type": "code",
   "execution_count": 64,
   "metadata": {
    "ExecuteTime": {
     "end_time": "2022-08-20T20:08:18.954065Z",
     "start_time": "2022-08-20T20:08:18.945072Z"
    }
   },
   "outputs": [
    {
     "data": {
      "text/plain": [
       "1374"
      ]
     },
     "execution_count": 64,
     "metadata": {},
     "output_type": "execute_result"
    }
   ],
   "source": [
    "len(x_train)"
   ]
  },
  {
   "cell_type": "code",
   "execution_count": 65,
   "metadata": {
    "ExecuteTime": {
     "end_time": "2022-08-20T20:08:19.744126Z",
     "start_time": "2022-08-20T20:08:19.730123Z"
    }
   },
   "outputs": [
    {
     "data": {
      "text/plain": [
       "344"
      ]
     },
     "execution_count": 65,
     "metadata": {},
     "output_type": "execute_result"
    }
   ],
   "source": [
    "len(x_test)"
   ]
  },
  {
   "cell_type": "code",
   "execution_count": 66,
   "metadata": {
    "ExecuteTime": {
     "end_time": "2022-08-20T20:08:25.394206Z",
     "start_time": "2022-08-20T20:08:25.378202Z"
    }
   },
   "outputs": [
    {
     "data": {
      "text/plain": [
       "LinearRegression()"
      ]
     },
     "execution_count": 66,
     "metadata": {},
     "output_type": "execute_result"
    }
   ],
   "source": [
    "model2 = LinearRegression()\n",
    "model2.fit(x_train, y_train)"
   ]
  },
  {
   "cell_type": "code",
   "execution_count": 67,
   "metadata": {
    "ExecuteTime": {
     "end_time": "2022-08-20T20:08:28.899152Z",
     "start_time": "2022-08-20T20:08:28.882149Z"
    }
   },
   "outputs": [
    {
     "data": {
      "text/plain": [
       "0.9823728208297037"
      ]
     },
     "execution_count": 67,
     "metadata": {},
     "output_type": "execute_result"
    }
   ],
   "source": [
    "model2.score(x_train,y_train)"
   ]
  },
  {
   "cell_type": "code",
   "execution_count": 68,
   "metadata": {
    "ExecuteTime": {
     "end_time": "2022-08-20T20:08:32.261043Z",
     "start_time": "2022-08-20T20:08:32.241108Z"
    }
   },
   "outputs": [
    {
     "data": {
      "text/plain": [
       "0.9842101823131104"
      ]
     },
     "execution_count": 68,
     "metadata": {},
     "output_type": "execute_result"
    }
   ],
   "source": [
    "model2.score(x_test,y_test)"
   ]
  },
  {
   "cell_type": "code",
   "execution_count": 69,
   "metadata": {
    "ExecuteTime": {
     "end_time": "2022-08-20T20:08:38.384222Z",
     "start_time": "2022-08-20T20:08:38.369228Z"
    }
   },
   "outputs": [
    {
     "data": {
      "text/plain": [
       "0.9828777600233676"
      ]
     },
     "execution_count": 69,
     "metadata": {},
     "output_type": "execute_result"
    }
   ],
   "source": [
    "model.score(x,y)"
   ]
  },
  {
   "cell_type": "code",
   "execution_count": 70,
   "metadata": {
    "ExecuteTime": {
     "end_time": "2022-08-20T20:08:44.982108Z",
     "start_time": "2022-08-20T20:08:44.978099Z"
    }
   },
   "outputs": [
    {
     "data": {
      "text/plain": [
       "44      172.940002\n",
       "993     108.089996\n",
       "1078    118.879997\n",
       "1021    117.870003\n",
       "1390    126.809998\n",
       "           ...    \n",
       "952     102.279999\n",
       "831     112.820000\n",
       "442     129.339996\n",
       "629     126.199997\n",
       "821     113.910004\n",
       "Name: Adj Close, Length: 344, dtype: float64"
      ]
     },
     "execution_count": 70,
     "metadata": {},
     "output_type": "execute_result"
    }
   ],
   "source": [
    "y_test"
   ]
  },
  {
   "cell_type": "code",
   "execution_count": 71,
   "metadata": {
    "ExecuteTime": {
     "end_time": "2022-08-20T20:08:48.450704Z",
     "start_time": "2022-08-20T20:08:48.434014Z"
    }
   },
   "outputs": [
    {
     "data": {
      "text/html": [
       "<div>\n",
       "<style scoped>\n",
       "    .dataframe tbody tr th:only-of-type {\n",
       "        vertical-align: middle;\n",
       "    }\n",
       "\n",
       "    .dataframe tbody tr th {\n",
       "        vertical-align: top;\n",
       "    }\n",
       "\n",
       "    .dataframe thead th {\n",
       "        text-align: right;\n",
       "    }\n",
       "</style>\n",
       "<table border=\"1\" class=\"dataframe\">\n",
       "  <thead>\n",
       "    <tr style=\"text-align: right;\">\n",
       "      <th></th>\n",
       "      <th>SP_Ajclose</th>\n",
       "      <th>DJ_Ajclose</th>\n",
       "      <th>EG_Ajclose</th>\n",
       "      <th>EU_Price</th>\n",
       "      <th>OF_Price</th>\n",
       "      <th>OS_Price</th>\n",
       "      <th>SF_Price</th>\n",
       "      <th>PLT_Price</th>\n",
       "      <th>USDI_Price</th>\n",
       "      <th>GDX_Adj Close</th>\n",
       "      <th>USO_Adj Close</th>\n",
       "    </tr>\n",
       "  </thead>\n",
       "  <tbody>\n",
       "    <tr>\n",
       "      <th>44</th>\n",
       "      <td>118.138313</td>\n",
       "      <td>12938.66992</td>\n",
       "      <td>71.806305</td>\n",
       "      <td>1.3245</td>\n",
       "      <td>122.90</td>\n",
       "      <td>105.95</td>\n",
       "      <td>57257</td>\n",
       "      <td>1725.25</td>\n",
       "      <td>79.303</td>\n",
       "      <td>54.008816</td>\n",
       "      <td>40.590000</td>\n",
       "    </tr>\n",
       "    <tr>\n",
       "      <th>993</th>\n",
       "      <td>179.208099</td>\n",
       "      <td>16153.54004</td>\n",
       "      <td>11.340830</td>\n",
       "      <td>1.0919</td>\n",
       "      <td>32.72</td>\n",
       "      <td>29.66</td>\n",
       "      <td>34805</td>\n",
       "      <td>856.50</td>\n",
       "      <td>98.893</td>\n",
       "      <td>14.070210</td>\n",
       "      <td>8.570000</td>\n",
       "    </tr>\n",
       "    <tr>\n",
       "      <th>1078</th>\n",
       "      <td>199.191010</td>\n",
       "      <td>17807.06055</td>\n",
       "      <td>23.228807</td>\n",
       "      <td>1.1367</td>\n",
       "      <td>49.64</td>\n",
       "      <td>48.85</td>\n",
       "      <td>39079</td>\n",
       "      <td>988.05</td>\n",
       "      <td>94.028</td>\n",
       "      <td>24.922968</td>\n",
       "      <td>11.820000</td>\n",
       "    </tr>\n",
       "    <tr>\n",
       "      <th>1021</th>\n",
       "      <td>190.837387</td>\n",
       "      <td>17229.13086</td>\n",
       "      <td>16.016436</td>\n",
       "      <td>1.1106</td>\n",
       "      <td>39.53</td>\n",
       "      <td>37.36</td>\n",
       "      <td>37420</td>\n",
       "      <td>961.60</td>\n",
       "      <td>96.521</td>\n",
       "      <td>18.812759</td>\n",
       "      <td>9.880000</td>\n",
       "    </tr>\n",
       "    <tr>\n",
       "      <th>1390</th>\n",
       "      <td>239.874969</td>\n",
       "      <td>21807.64063</td>\n",
       "      <td>10.300000</td>\n",
       "      <td>1.1917</td>\n",
       "      <td>54.20</td>\n",
       "      <td>49.09</td>\n",
       "      <td>41323</td>\n",
       "      <td>1005.60</td>\n",
       "      <td>92.252</td>\n",
       "      <td>24.590441</td>\n",
       "      <td>10.040000</td>\n",
       "    </tr>\n",
       "    <tr>\n",
       "      <th>...</th>\n",
       "      <td>...</td>\n",
       "      <td>...</td>\n",
       "      <td>...</td>\n",
       "      <td>...</td>\n",
       "      <td>...</td>\n",
       "      <td>...</td>\n",
       "      <td>...</td>\n",
       "      <td>...</td>\n",
       "      <td>...</td>\n",
       "      <td>...</td>\n",
       "      <td>...</td>\n",
       "    </tr>\n",
       "    <tr>\n",
       "      <th>952</th>\n",
       "      <td>197.372040</td>\n",
       "      <td>17888.34961</td>\n",
       "      <td>15.519032</td>\n",
       "      <td>1.0631</td>\n",
       "      <td>44.44</td>\n",
       "      <td>41.66</td>\n",
       "      <td>33299</td>\n",
       "      <td>841.60</td>\n",
       "      <td>99.840</td>\n",
       "      <td>13.813974</td>\n",
       "      <td>12.950000</td>\n",
       "    </tr>\n",
       "    <tr>\n",
       "      <th>831</th>\n",
       "      <td>193.331573</td>\n",
       "      <td>17764.03906</td>\n",
       "      <td>22.488039</td>\n",
       "      <td>1.1284</td>\n",
       "      <td>64.88</td>\n",
       "      <td>60.53</td>\n",
       "      <td>36863</td>\n",
       "      <td>1109.10</td>\n",
       "      <td>95.172</td>\n",
       "      <td>18.311319</td>\n",
       "      <td>20.209999</td>\n",
       "    </tr>\n",
       "    <tr>\n",
       "      <th>442</th>\n",
       "      <td>158.003372</td>\n",
       "      <td>15467.66016</td>\n",
       "      <td>32.389091</td>\n",
       "      <td>1.3781</td>\n",
       "      <td>109.97</td>\n",
       "      <td>97.80</td>\n",
       "      <td>49884</td>\n",
       "      <td>1450.70</td>\n",
       "      <td>79.290</td>\n",
       "      <td>24.983780</td>\n",
       "      <td>35.410000</td>\n",
       "    </tr>\n",
       "    <tr>\n",
       "      <th>629</th>\n",
       "      <td>178.085739</td>\n",
       "      <td>16651.80078</td>\n",
       "      <td>42.185497</td>\n",
       "      <td>1.3365</td>\n",
       "      <td>104.28</td>\n",
       "      <td>97.36</td>\n",
       "      <td>43317</td>\n",
       "      <td>1470.35</td>\n",
       "      <td>81.657</td>\n",
       "      <td>26.555882</td>\n",
       "      <td>36.020000</td>\n",
       "    </tr>\n",
       "    <tr>\n",
       "      <th>821</th>\n",
       "      <td>195.418396</td>\n",
       "      <td>18041.53906</td>\n",
       "      <td>23.431248</td>\n",
       "      <td>1.0873</td>\n",
       "      <td>63.72</td>\n",
       "      <td>58.33</td>\n",
       "      <td>38510</td>\n",
       "      <td>1126.50</td>\n",
       "      <td>97.407</td>\n",
       "      <td>18.779589</td>\n",
       "      <td>19.690001</td>\n",
       "    </tr>\n",
       "  </tbody>\n",
       "</table>\n",
       "<p>344 rows × 11 columns</p>\n",
       "</div>"
      ],
      "text/plain": [
       "      SP_Ajclose   DJ_Ajclose  EG_Ajclose  EU_Price  OF_Price  OS_Price  \\\n",
       "44    118.138313  12938.66992   71.806305    1.3245    122.90    105.95   \n",
       "993   179.208099  16153.54004   11.340830    1.0919     32.72     29.66   \n",
       "1078  199.191010  17807.06055   23.228807    1.1367     49.64     48.85   \n",
       "1021  190.837387  17229.13086   16.016436    1.1106     39.53     37.36   \n",
       "1390  239.874969  21807.64063   10.300000    1.1917     54.20     49.09   \n",
       "...          ...          ...         ...       ...       ...       ...   \n",
       "952   197.372040  17888.34961   15.519032    1.0631     44.44     41.66   \n",
       "831   193.331573  17764.03906   22.488039    1.1284     64.88     60.53   \n",
       "442   158.003372  15467.66016   32.389091    1.3781    109.97     97.80   \n",
       "629   178.085739  16651.80078   42.185497    1.3365    104.28     97.36   \n",
       "821   195.418396  18041.53906   23.431248    1.0873     63.72     58.33   \n",
       "\n",
       "      SF_Price  PLT_Price  USDI_Price  GDX_Adj Close  USO_Adj Close  \n",
       "44       57257    1725.25      79.303      54.008816      40.590000  \n",
       "993      34805     856.50      98.893      14.070210       8.570000  \n",
       "1078     39079     988.05      94.028      24.922968      11.820000  \n",
       "1021     37420     961.60      96.521      18.812759       9.880000  \n",
       "1390     41323    1005.60      92.252      24.590441      10.040000  \n",
       "...        ...        ...         ...            ...            ...  \n",
       "952      33299     841.60      99.840      13.813974      12.950000  \n",
       "831      36863    1109.10      95.172      18.311319      20.209999  \n",
       "442      49884    1450.70      79.290      24.983780      35.410000  \n",
       "629      43317    1470.35      81.657      26.555882      36.020000  \n",
       "821      38510    1126.50      97.407      18.779589      19.690001  \n",
       "\n",
       "[344 rows x 11 columns]"
      ]
     },
     "execution_count": 71,
     "metadata": {},
     "output_type": "execute_result"
    }
   ],
   "source": [
    "x_test"
   ]
  },
  {
   "cell_type": "code",
   "execution_count": 73,
   "metadata": {
    "ExecuteTime": {
     "end_time": "2022-08-20T20:09:33.958249Z",
     "start_time": "2022-08-20T20:09:33.954249Z"
    }
   },
   "outputs": [
    {
     "data": {
      "text/plain": [
       "171.020004"
      ]
     },
     "execution_count": 73,
     "metadata": {},
     "output_type": "execute_result"
    }
   ],
   "source": [
    "y[43]"
   ]
  },
  {
   "cell_type": "code",
   "execution_count": null,
   "metadata": {
    "ExecuteTime": {
     "end_time": "2022-08-20T20:05:35.437919Z",
     "start_time": "2022-08-20T20:05:35.409922Z"
    }
   },
   "outputs": [],
   "source": []
  },
  {
   "cell_type": "code",
   "execution_count": 74,
   "metadata": {
    "ExecuteTime": {
     "end_time": "2022-08-20T20:09:50.755276Z",
     "start_time": "2022-08-20T20:09:50.738274Z"
    }
   },
   "outputs": [
    {
     "data": {
      "text/plain": [
       "0.9828777600233676"
      ]
     },
     "execution_count": 74,
     "metadata": {},
     "output_type": "execute_result"
    }
   ],
   "source": [
    "model.score(x,y)"
   ]
  }
 ],
 "metadata": {
  "kernelspec": {
   "display_name": "Python 3",
   "language": "python",
   "name": "python3"
  },
  "language_info": {
   "codemirror_mode": {
    "name": "ipython",
    "version": 3
   },
   "file_extension": ".py",
   "mimetype": "text/x-python",
   "name": "python",
   "nbconvert_exporter": "python",
   "pygments_lexer": "ipython3",
   "version": "3.8.5"
  }
 },
 "nbformat": 4,
 "nbformat_minor": 4
}
